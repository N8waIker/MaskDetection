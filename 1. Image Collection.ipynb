{
 "cells": [
  {
   "cell_type": "markdown",
   "metadata": {},
   "source": [
    "# 1. Import Dependencies"
   ]
  },
  {
   "cell_type": "code",
   "execution_count": 1,
   "metadata": {},
   "outputs": [
    {
     "name": "stdout",
     "output_type": "stream",
     "text": [
      "Requirement already satisfied: opencv-python in c:\\users\\martin christoph\\lasttry\\detection02\\tfodcourse\\tfod\\lib\\site-packages (4.5.2.52)\n",
      "Requirement already satisfied: numpy>=1.17.3 in c:\\users\\martin christoph\\lasttry\\detection02\\tfodcourse\\tfod\\lib\\site-packages (from opencv-python) (1.20.2)\n"
     ]
    }
   ],
   "source": [
    "!pip install opencv-python"
   ]
  },
  {
   "cell_type": "code",
   "execution_count": 1,
   "metadata": {},
   "outputs": [],
   "source": [
    "# Import opencv\n",
    "import cv2 \n",
    "\n",
    "# Import uuid\n",
    "import uuid\n",
    "\n",
    "# Import Operating System\n",
    "import os\n",
    "\n",
    "# Import time\n",
    "import time"
   ]
  },
  {
   "cell_type": "markdown",
   "metadata": {},
   "source": [
    "# 2. Define Images to Collect"
   ]
  },
  {
   "cell_type": "code",
   "execution_count": 2,
   "metadata": {},
   "outputs": [],
   "source": [
    "labels = ['NoMask', 'Mask', 'WrongMask']\n",
    "number_imgs = 10"
   ]
  },
  {
   "cell_type": "markdown",
   "metadata": {},
   "source": [
    "# 3. Setup Folders "
   ]
  },
  {
   "cell_type": "code",
   "execution_count": 3,
   "metadata": {},
   "outputs": [],
   "source": [
    "IMAGES_PATH = os.path.join('Tensorflow', 'workspace', 'images', 'collectedimages')"
   ]
  },
  {
   "cell_type": "code",
   "execution_count": 4,
   "metadata": {},
   "outputs": [],
   "source": [
    "if not os.path.exists(IMAGES_PATH):\n",
    "    if os.name == 'posix':\n",
    "        !mkdir -p {IMAGES_PATH}\n",
    "    if os.name == 'nt':\n",
    "         !mkdir {IMAGES_PATH}\n",
    "for label in labels:\n",
    "    path = os.path.join(IMAGES_PATH, label)\n",
    "    if not os.path.exists(path):\n",
    "        !mkdir {path}"
   ]
  },
  {
   "cell_type": "markdown",
   "metadata": {},
   "source": [
    "# 4. Capture Images"
   ]
  },
  {
   "cell_type": "code",
   "execution_count": 5,
   "metadata": {},
   "outputs": [
    {
     "name": "stdout",
     "output_type": "stream",
     "text": [
      "Collecting images for NoMask\n",
      "Collecting image 0\n",
      "Collecting image 1\n",
      "Collecting image 2\n",
      "Collecting image 3\n",
      "Collecting image 4\n",
      "Collecting image 5\n",
      "Collecting image 6\n",
      "Collecting image 7\n",
      "Collecting image 8\n",
      "Collecting image 9\n",
      "Collecting images for Mask\n",
      "Collecting image 0\n",
      "Collecting image 1\n",
      "Collecting image 2\n",
      "Collecting image 3\n",
      "Collecting image 4\n",
      "Collecting image 5\n",
      "Collecting image 6\n",
      "Collecting image 7\n",
      "Collecting image 8\n",
      "Collecting image 9\n",
      "Collecting images for WrongMask\n",
      "Collecting image 0\n",
      "Collecting image 1\n",
      "Collecting image 2\n",
      "Collecting image 3\n",
      "Collecting image 4\n",
      "Collecting image 5\n",
      "Collecting image 6\n",
      "Collecting image 7\n",
      "Collecting image 8\n",
      "Collecting image 9\n"
     ]
    }
   ],
   "source": [
    "for label in labels:\n",
    "    cap = cv2.VideoCapture(0)\n",
    "    print('Collecting images for {}'.format(label))\n",
    "    time.sleep(5)\n",
    "    for imgnum in range(number_imgs):\n",
    "        print('Collecting image {}'.format(imgnum))\n",
    "        ret, frame = cap.read()\n",
    "        imgname = os.path.join(IMAGES_PATH,label,label+'.'+'{}.jpg'.format(str(uuid.uuid1())))\n",
    "        cv2.imwrite(imgname, frame)\n",
    "        cv2.imshow('frame', frame)\n",
    "        time.sleep(2)\n",
    "\n",
    "        if cv2.waitKey(1) & 0xFF == ord('q'):\n",
    "            break\n",
    "cap.release()\n",
    "cv2.destroyAllWindows()"
   ]
  },
  {
   "cell_type": "markdown",
   "metadata": {},
   "source": [
    "# 5. Image Labelling"
   ]
  },
  {
   "cell_type": "code",
   "execution_count": 7,
   "metadata": {},
   "outputs": [
    {
     "name": "stdout",
     "output_type": "stream",
     "text": [
      "Requirement already satisfied: pyqt5 in c:\\users\\martin christoph\\lasttry\\detection02\\tfodcourse\\tfod\\lib\\site-packages (5.15.4)\n",
      "Requirement already satisfied: lxml in c:\\users\\martin christoph\\lasttry\\detection02\\tfodcourse\\tfod\\lib\\site-packages (4.6.3)\n",
      "Requirement already satisfied: PyQt5-sip<13,>=12.8 in c:\\users\\martin christoph\\lasttry\\detection02\\tfodcourse\\tfod\\lib\\site-packages (from pyqt5) (12.8.1)\n",
      "Requirement already satisfied: PyQt5-Qt5>=5.15 in c:\\users\\martin christoph\\lasttry\\detection02\\tfodcourse\\tfod\\lib\\site-packages (from pyqt5) (5.15.2)\n"
     ]
    }
   ],
   "source": [
    "!pip install --upgrade pyqt5 lxml"
   ]
  },
  {
   "cell_type": "code",
   "execution_count": 6,
   "metadata": {},
   "outputs": [],
   "source": [
    "LABELIMG_PATH = os.path.join('Tensorflow', 'labelimg')"
   ]
  },
  {
   "cell_type": "code",
   "execution_count": 7,
   "metadata": {},
   "outputs": [],
   "source": [
    "if not os.path.exists(LABELIMG_PATH):\n",
    "    !mkdir {LABELIMG_PATH}\n",
    "    !git clone https://github.com/tzutalin/labelImg {LABELIMG_PATH}"
   ]
  },
  {
   "cell_type": "code",
   "execution_count": 8,
   "metadata": {},
   "outputs": [],
   "source": [
    "if os.name == 'posix':\n",
    "    !make qt5py3\n",
    "if os.name =='nt':\n",
    "    !cd {LABELIMG_PATH} && pyrcc5 -o libs/resources.py resources.qrc"
   ]
  },
  {
   "cell_type": "code",
   "execution_count": 9,
   "metadata": {},
   "outputs": [
    {
     "name": "stdout",
     "output_type": "stream",
     "text": [
      "Image:C:\\Users\\Martin Christoph\\lasttry\\detection02\\TFODCourse\\Tensorflow\\workspace\\images\\collectedimages\\Mask\\Mask.0b22c2fd-b19d-11eb-a47c-00d86119e11f.jpg -> Annotation:C:/Users/Martin Christoph/lasttry/detection02/TFODCourse/Tensorflow/workspace/images/collectedimages/Mask/Mask.0b22c2fd-b19d-11eb-a47c-00d86119e11f.xml\n",
      "Image:C:\\Users\\Martin Christoph\\lasttry\\detection02\\TFODCourse\\Tensorflow\\workspace\\images\\collectedimages\\Mask\\Mask.0c593180-b19d-11eb-8711-00d86119e11f.jpg -> Annotation:C:/Users/Martin Christoph/lasttry/detection02/TFODCourse/Tensorflow/workspace/images/collectedimages/Mask/Mask.0c593180-b19d-11eb-8711-00d86119e11f.xml\n",
      "Image:C:\\Users\\Martin Christoph\\lasttry\\detection02\\TFODCourse\\Tensorflow\\workspace\\images\\collectedimages\\Mask\\Mask.0d8e1b63-b19d-11eb-b5a2-00d86119e11f.jpg -> Annotation:C:/Users/Martin Christoph/lasttry/detection02/TFODCourse/Tensorflow/workspace/images/collectedimages/Mask/Mask.0d8e1b63-b19d-11eb-b5a2-00d86119e11f.xml\n",
      "Image:C:\\Users\\Martin Christoph\\lasttry\\detection02\\TFODCourse\\Tensorflow\\workspace\\images\\collectedimages\\Mask\\Mask.0ec40234-b19d-11eb-a5f8-00d86119e11f.jpg -> Annotation:C:/Users/Martin Christoph/lasttry/detection02/TFODCourse/Tensorflow/workspace/images/collectedimages/Mask/Mask.0ec40234-b19d-11eb-a5f8-00d86119e11f.xml\n",
      "Image:C:\\Users\\Martin Christoph\\lasttry\\detection02\\TFODCourse\\Tensorflow\\workspace\\images\\collectedimages\\Mask\\Mask.0ff9eaf9-b19d-11eb-96b3-00d86119e11f.jpg -> Annotation:C:/Users/Martin Christoph/lasttry/detection02/TFODCourse/Tensorflow/workspace/images/collectedimages/Mask/Mask.0ff9eaf9-b19d-11eb-96b3-00d86119e11f.xml\n",
      "Image:C:\\Users\\Martin Christoph\\lasttry\\detection02\\TFODCourse\\Tensorflow\\workspace\\images\\collectedimages\\Mask\\Mask.08b871ee-b19d-11eb-9967-00d86119e11f.jpg -> Annotation:C:/Users/Martin Christoph/lasttry/detection02/TFODCourse/Tensorflow/workspace/images/collectedimages/Mask/Mask.08b871ee-b19d-11eb-9967-00d86119e11f.xml\n",
      "Image:C:\\Users\\Martin Christoph\\lasttry\\detection02\\TFODCourse\\Tensorflow\\workspace\\images\\collectedimages\\Mask\\Mask.09ed8810-b19d-11eb-9142-00d86119e11f.jpg -> Annotation:C:/Users/Martin Christoph/lasttry/detection02/TFODCourse/Tensorflow/workspace/images/collectedimages/Mask/Mask.09ed8810-b19d-11eb-9142-00d86119e11f.xml\n",
      "Image:C:\\Users\\Martin Christoph\\lasttry\\detection02\\TFODCourse\\Tensorflow\\workspace\\images\\collectedimages\\Mask\\Mask.064b11f8-b19d-11eb-9ee7-00d86119e11f.jpg -> Annotation:C:/Users/Martin Christoph/lasttry/detection02/TFODCourse/Tensorflow/workspace/images/collectedimages/Mask/Mask.064b11f8-b19d-11eb-9ee7-00d86119e11f.xml\n",
      "Image:C:\\Users\\Martin Christoph\\lasttry\\detection02\\TFODCourse\\Tensorflow\\workspace\\images\\collectedimages\\Mask\\Mask.0517126a-b19d-11eb-97b1-00d86119e11f.jpg -> Annotation:C:/Users/Martin Christoph/lasttry/detection02/TFODCourse/Tensorflow/workspace/images/collectedimages/Mask/Mask.0517126a-b19d-11eb-97b1-00d86119e11f.xml\n",
      "Image:C:\\Users\\Martin Christoph\\lasttry\\detection02\\TFODCourse\\Tensorflow\\workspace\\images\\collectedimages\\Mask\\Mask.07822451-b19d-11eb-868b-00d86119e11f.jpg -> Annotation:C:/Users/Martin Christoph/lasttry/detection02/TFODCourse/Tensorflow/workspace/images/collectedimages/Mask/Mask.07822451-b19d-11eb-868b-00d86119e11f.xml\n",
      "Image:C:\\Users\\Martin Christoph\\lasttry\\detection02\\TFODCourse\\Tensorflow\\workspace\\images\\collectedimages\\NoMask\\NoMask.f1fb1064-b19c-11eb-aeaf-00d86119e11f.jpg -> Annotation:C:/Users/Martin Christoph/lasttry/detection02/TFODCourse/Tensorflow/workspace/images/collectedimages/NoMask/NoMask.f1fb1064-b19c-11eb-aeaf-00d86119e11f.xml\n",
      "Image:C:\\Users\\Martin Christoph\\lasttry\\detection02\\TFODCourse\\Tensorflow\\workspace\\images\\collectedimages\\NoMask\\NoMask.f6d1e0bf-b19c-11eb-afc5-00d86119e11f.jpg -> Annotation:C:/Users/Martin Christoph/lasttry/detection02/TFODCourse/Tensorflow/workspace/images/collectedimages/NoMask/NoMask.f6d1e0bf-b19c-11eb-afc5-00d86119e11f.xml\n",
      "Image:C:\\Users\\Martin Christoph\\lasttry\\detection02\\TFODCourse\\Tensorflow\\workspace\\images\\collectedimages\\NoMask\\NoMask.f59c203b-b19c-11eb-9bc1-00d86119e11f.jpg -> Annotation:C:/Users/Martin Christoph/lasttry/detection02/TFODCourse/Tensorflow/workspace/images/collectedimages/NoMask/NoMask.f59c203b-b19c-11eb-9bc1-00d86119e11f.xml\n",
      "Image:C:\\Users\\Martin Christoph\\lasttry\\detection02\\TFODCourse\\Tensorflow\\workspace\\images\\collectedimages\\NoMask\\NoMask.f93d9407-b19c-11eb-9112-00d86119e11f.jpg -> Annotation:C:/Users/Martin Christoph/lasttry/detection02/TFODCourse/Tensorflow/workspace/images/collectedimages/NoMask/NoMask.f93d9407-b19c-11eb-9112-00d86119e11f.xml\n",
      "Image:C:\\Users\\Martin Christoph\\lasttry\\detection02\\TFODCourse\\Tensorflow\\workspace\\images\\collectedimages\\NoMask\\NoMask.f331e055-b19c-11eb-b22c-00d86119e11f.jpg -> Annotation:C:/Users/Martin Christoph/lasttry/detection02/TFODCourse/Tensorflow/workspace/images/collectedimages/NoMask/NoMask.f331e055-b19c-11eb-b22c-00d86119e11f.xml\n",
      "Image:C:\\Users\\Martin Christoph\\lasttry\\detection02\\TFODCourse\\Tensorflow\\workspace\\images\\collectedimages\\NoMask\\NoMask.f466f6a4-b19c-11eb-8481-00d86119e11f.jpg -> Annotation:C:/Users/Martin Christoph/lasttry/detection02/TFODCourse/Tensorflow/workspace/images/collectedimages/NoMask/NoMask.f466f6a4-b19c-11eb-8481-00d86119e11f.xml\n",
      "Image:C:\\Users\\Martin Christoph\\lasttry\\detection02\\TFODCourse\\Tensorflow\\workspace\\images\\collectedimages\\NoMask\\NoMask.f8075882-b19c-11eb-bd54-00d86119e11f.jpg -> Annotation:C:/Users/Martin Christoph/lasttry/detection02/TFODCourse/Tensorflow/workspace/images/collectedimages/NoMask/NoMask.f8075882-b19c-11eb-bd54-00d86119e11f.xml\n",
      "Cancel creation.\n",
      "Image:C:\\Users\\Martin Christoph\\lasttry\\detection02\\TFODCourse\\Tensorflow\\workspace\\images\\collectedimages\\NoMask\\NoMask.fa738aef-b19c-11eb-a1b6-00d86119e11f.jpg -> Annotation:C:/Users/Martin Christoph/lasttry/detection02/TFODCourse/Tensorflow/workspace/images/collectedimages/NoMask/NoMask.fa738aef-b19c-11eb-a1b6-00d86119e11f.xml\n",
      "Cancel creation.\n",
      "Image:C:\\Users\\Martin Christoph\\lasttry\\detection02\\TFODCourse\\Tensorflow\\workspace\\images\\collectedimages\\NoMask\\NoMask.fbaa2386-b19c-11eb-baf1-00d86119e11f.jpg -> Annotation:C:/Users/Martin Christoph/lasttry/detection02/TFODCourse/Tensorflow/workspace/images/collectedimages/NoMask/NoMask.fbaa2386-b19c-11eb-baf1-00d86119e11f.xml\n",
      "Image:C:\\Users\\Martin Christoph\\lasttry\\detection02\\TFODCourse\\Tensorflow\\workspace\\images\\collectedimages\\NoMask\\NoMask.fce04e10-b19c-11eb-9dba-00d86119e11f.jpg -> Annotation:C:/Users/Martin Christoph/lasttry/detection02/TFODCourse/Tensorflow/workspace/images/collectedimages/NoMask/NoMask.fce04e10-b19c-11eb-9dba-00d86119e11f.xml\n",
      "Image:C:\\Users\\Martin Christoph\\lasttry\\detection02\\TFODCourse\\Tensorflow\\workspace\\images\\collectedimages\\WrongMask\\WrongMask.1ac7d919-b19d-11eb-b7a5-00d86119e11f.jpg -> Annotation:C:/Users/Martin Christoph/lasttry/detection02/TFODCourse/Tensorflow/workspace/images/collectedimages/WrongMask/WrongMask.1ac7d919-b19d-11eb-b7a5-00d86119e11f.xml\n",
      "Image:C:\\Users\\Martin Christoph\\lasttry\\detection02\\TFODCourse\\Tensorflow\\workspace\\images\\collectedimages\\WrongMask\\WrongMask.1bfd16d4-b19d-11eb-93a8-00d86119e11f.jpg -> Annotation:C:/Users/Martin Christoph/lasttry/detection02/TFODCourse/Tensorflow/workspace/images/collectedimages/WrongMask/WrongMask.1bfd16d4-b19d-11eb-93a8-00d86119e11f.xml\n",
      "Image:C:\\Users\\Martin Christoph\\lasttry\\detection02\\TFODCourse\\Tensorflow\\workspace\\images\\collectedimages\\WrongMask\\WrongMask.1d32cdde-b19d-11eb-879a-00d86119e11f.jpg -> Annotation:C:/Users/Martin Christoph/lasttry/detection02/TFODCourse/Tensorflow/workspace/images/collectedimages/WrongMask/WrongMask.1d32cdde-b19d-11eb-879a-00d86119e11f.xml\n",
      "Image:C:\\Users\\Martin Christoph\\lasttry\\detection02\\TFODCourse\\Tensorflow\\workspace\\images\\collectedimages\\WrongMask\\WrongMask.1e68aae6-b19d-11eb-983a-00d86119e11f.jpg -> Annotation:C:/Users/Martin Christoph/lasttry/detection02/TFODCourse/Tensorflow/workspace/images/collectedimages/WrongMask/WrongMask.1e68aae6-b19d-11eb-983a-00d86119e11f.xml\n",
      "Image:C:\\Users\\Martin Christoph\\lasttry\\detection02\\TFODCourse\\Tensorflow\\workspace\\images\\collectedimages\\WrongMask\\WrongMask.1f9e948b-b19d-11eb-bc69-00d86119e11f.jpg -> Annotation:C:/Users/Martin Christoph/lasttry/detection02/TFODCourse/Tensorflow/workspace/images/collectedimages/WrongMask/WrongMask.1f9e948b-b19d-11eb-bc69-00d86119e11f.xml\n",
      "Image:C:\\Users\\Martin Christoph\\lasttry\\detection02\\TFODCourse\\Tensorflow\\workspace\\images\\collectedimages\\WrongMask\\WrongMask.20d48015-b19d-11eb-a1f9-00d86119e11f.jpg -> Annotation:C:/Users/Martin Christoph/lasttry/detection02/TFODCourse/Tensorflow/workspace/images/collectedimages/WrongMask/WrongMask.20d48015-b19d-11eb-a1f9-00d86119e11f.xml\n",
      "Cancel creation.\n",
      "Image:C:\\Users\\Martin Christoph\\lasttry\\detection02\\TFODCourse\\Tensorflow\\workspace\\images\\collectedimages\\WrongMask\\WrongMask.185ce396-b19d-11eb-bba9-00d86119e11f.jpg -> Annotation:C:/Users/Martin Christoph/lasttry/detection02/TFODCourse/Tensorflow/workspace/images/collectedimages/WrongMask/WrongMask.185ce396-b19d-11eb-bba9-00d86119e11f.xml\n",
      "Image:C:\\Users\\Martin Christoph\\lasttry\\detection02\\TFODCourse\\Tensorflow\\workspace\\images\\collectedimages\\WrongMask\\WrongMask.220b1e99-b19d-11eb-b8c7-00d86119e11f.jpg -> Annotation:C:/Users/Martin Christoph/lasttry/detection02/TFODCourse/Tensorflow/workspace/images/collectedimages/WrongMask/WrongMask.220b1e99-b19d-11eb-b8c7-00d86119e11f.xml\n",
      "Image:C:\\Users\\Martin Christoph\\lasttry\\detection02\\TFODCourse\\Tensorflow\\workspace\\images\\collectedimages\\WrongMask\\WrongMask.2340721c-b19d-11eb-b803-00d86119e11f.jpg -> Annotation:C:/Users/Martin Christoph/lasttry/detection02/TFODCourse/Tensorflow/workspace/images/collectedimages/WrongMask/WrongMask.2340721c-b19d-11eb-b803-00d86119e11f.xml\n",
      "Cancel creation.\n",
      "Image:C:\\Users\\Martin Christoph\\lasttry\\detection02\\TFODCourse\\Tensorflow\\workspace\\images\\collectedimages\\WrongMask\\WrongMask.19916840-b19d-11eb-bac6-00d86119e11f.jpg -> Annotation:C:/Users/Martin Christoph/lasttry/detection02/TFODCourse/Tensorflow/workspace/images/collectedimages/WrongMask/WrongMask.19916840-b19d-11eb-bac6-00d86119e11f.xml\n"
     ]
    }
   ],
   "source": [
    "!cd {LABELIMG_PATH} && python labelImg.py"
   ]
  },
  {
   "cell_type": "markdown",
   "metadata": {},
   "source": [
    "# 6. Move them into a Training and Testing Partition"
   ]
  },
  {
   "cell_type": "markdown",
   "metadata": {},
   "source": [
    "# OPTIONAL - 7. Compress them for Colab Training"
   ]
  },
  {
   "cell_type": "code",
   "execution_count": 20,
   "metadata": {},
   "outputs": [],
   "source": [
    "TRAIN_PATH = os.path.join('Tensorflow', 'workspace', 'images', 'train')\n",
    "TEST_PATH = os.path.join('Tensorflow', 'workspace', 'images', 'test')\n",
    "ARCHIVE_PATH = os.path.join('Tensorflow', 'workspace', 'images', 'archive.tar.gz')"
   ]
  },
  {
   "cell_type": "code",
   "execution_count": 21,
   "metadata": {},
   "outputs": [],
   "source": [
    "!tar -czf {ARCHIVE_PATH} {TRAIN_PATH} {TEST_PATH}"
   ]
  }
 ],
 "metadata": {
  "kernelspec": {
   "display_name": "tfod",
   "language": "python",
   "name": "tfod"
  },
  "language_info": {
   "codemirror_mode": {
    "name": "ipython",
    "version": 3
   },
   "file_extension": ".py",
   "mimetype": "text/x-python",
   "name": "python",
   "nbconvert_exporter": "python",
   "pygments_lexer": "ipython3",
   "version": "3.8.8"
  }
 },
 "nbformat": 4,
 "nbformat_minor": 2
}
